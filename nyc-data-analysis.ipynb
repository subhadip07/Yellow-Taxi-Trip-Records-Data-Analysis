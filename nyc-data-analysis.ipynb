{
 "cells": [
  {
   "cell_type": "markdown",
   "id": "2ff6cf33",
   "metadata": {},
   "source": [
    "### 1. Import Libraries"
   ]
  },
  {
   "cell_type": "code",
   "execution_count": 1,
   "id": "f2b5c2a2",
   "metadata": {},
   "outputs": [],
   "source": [
    "import os\n",
    "import sys\n",
    "import pandas as pd\n",
    "import matplotlib.pyplot as plt\n",
    "from timeit import default_timer as timer\n",
    "from pymongo import MongoClient\n",
    "from pymongo.errors import ConnectionFailure"
   ]
  },
  {
   "cell_type": "markdown",
   "id": "e008342c",
   "metadata": {},
   "source": [
    "### 2. Confirm Python Executable"
   ]
  },
  {
   "cell_type": "code",
   "execution_count": 2,
   "id": "3e8b2064",
   "metadata": {},
   "outputs": [
    {
     "data": {
      "text/plain": [
       "'d:\\\\CampusX\\\\DSMP\\\\Yellow-Taxi-Trip-Records-Data-Analysis\\\\.venv\\\\Scripts\\\\python.exe'"
      ]
     },
     "execution_count": 2,
     "metadata": {},
     "output_type": "execute_result"
    }
   ],
   "source": [
    "sys.executable"
   ]
  },
  {
   "cell_type": "markdown",
   "id": "f3d615c8",
   "metadata": {},
   "source": [
    "### 3. Import the Data"
   ]
  },
  {
   "cell_type": "code",
   "execution_count": 3,
   "id": "1c818738",
   "metadata": {},
   "outputs": [
    {
     "data": {
      "text/plain": [
       "'d:\\\\CampusX\\\\DSMP\\\\Yellow-Taxi-Trip-Records-Data-Analysis'"
      ]
     },
     "execution_count": 3,
     "metadata": {},
     "output_type": "execute_result"
    }
   ],
   "source": [
    "project_dir = os.getcwd()\n",
    "project_dir"
   ]
  },
  {
   "cell_type": "code",
   "execution_count": 4,
   "id": "32db4a3a",
   "metadata": {},
   "outputs": [
    {
     "data": {
      "text/plain": [
       "'d:\\\\CampusX\\\\DSMP\\\\Yellow-Taxi-Trip-Records-Data-Analysis\\\\Data'"
      ]
     },
     "execution_count": 4,
     "metadata": {},
     "output_type": "execute_result"
    }
   ],
   "source": [
    "data_dir = os.path.join(project_dir, \"Data\")\n",
    "data_dir"
   ]
  },
  {
   "cell_type": "code",
   "execution_count": 5,
   "id": "548a1232",
   "metadata": {},
   "outputs": [
    {
     "data": {
      "text/plain": [
       "'d:\\\\CampusX\\\\DSMP\\\\Yellow-Taxi-Trip-Records-Data-Analysis\\\\Data\\\\yellow_tripdata_2025-06.parquet'"
      ]
     },
     "execution_count": 5,
     "metadata": {},
     "output_type": "execute_result"
    }
   ],
   "source": [
    "data_file = os.path.join(data_dir, \"yellow_tripdata_2025-06.parquet\")\n",
    "data_file"
   ]
  },
  {
   "cell_type": "code",
   "execution_count": 29,
   "id": "240f3dc1",
   "metadata": {},
   "outputs": [
    {
     "data": {
      "text/html": [
       "<div>\n",
       "<style scoped>\n",
       "    .dataframe tbody tr th:only-of-type {\n",
       "        vertical-align: middle;\n",
       "    }\n",
       "\n",
       "    .dataframe tbody tr th {\n",
       "        vertical-align: top;\n",
       "    }\n",
       "\n",
       "    .dataframe thead th {\n",
       "        text-align: right;\n",
       "    }\n",
       "</style>\n",
       "<table border=\"1\" class=\"dataframe\">\n",
       "  <thead>\n",
       "    <tr style=\"text-align: right;\">\n",
       "      <th></th>\n",
       "      <th>VendorID</th>\n",
       "      <th>tpep_pickup_datetime</th>\n",
       "      <th>tpep_dropoff_datetime</th>\n",
       "      <th>passenger_count</th>\n",
       "      <th>trip_distance</th>\n",
       "      <th>RatecodeID</th>\n",
       "      <th>store_and_fwd_flag</th>\n",
       "      <th>PULocationID</th>\n",
       "      <th>DOLocationID</th>\n",
       "      <th>payment_type</th>\n",
       "      <th>fare_amount</th>\n",
       "      <th>extra</th>\n",
       "      <th>mta_tax</th>\n",
       "      <th>tip_amount</th>\n",
       "      <th>tolls_amount</th>\n",
       "      <th>improvement_surcharge</th>\n",
       "      <th>total_amount</th>\n",
       "      <th>congestion_surcharge</th>\n",
       "      <th>Airport_fee</th>\n",
       "      <th>cbd_congestion_fee</th>\n",
       "    </tr>\n",
       "  </thead>\n",
       "  <tbody>\n",
       "    <tr>\n",
       "      <th>0</th>\n",
       "      <td>1</td>\n",
       "      <td>2025-06-01 00:02:50</td>\n",
       "      <td>2025-06-01 00:39:51</td>\n",
       "      <td>1.0</td>\n",
       "      <td>10.00</td>\n",
       "      <td>1.0</td>\n",
       "      <td>N</td>\n",
       "      <td>138</td>\n",
       "      <td>50</td>\n",
       "      <td>1</td>\n",
       "      <td>47.80</td>\n",
       "      <td>11.00</td>\n",
       "      <td>0.5</td>\n",
       "      <td>20.15</td>\n",
       "      <td>6.94</td>\n",
       "      <td>1.0</td>\n",
       "      <td>87.39</td>\n",
       "      <td>2.5</td>\n",
       "      <td>1.75</td>\n",
       "      <td>0.75</td>\n",
       "    </tr>\n",
       "    <tr>\n",
       "      <th>1</th>\n",
       "      <td>2</td>\n",
       "      <td>2025-06-01 00:11:27</td>\n",
       "      <td>2025-06-01 00:35:35</td>\n",
       "      <td>1.0</td>\n",
       "      <td>3.93</td>\n",
       "      <td>1.0</td>\n",
       "      <td>N</td>\n",
       "      <td>158</td>\n",
       "      <td>237</td>\n",
       "      <td>1</td>\n",
       "      <td>24.70</td>\n",
       "      <td>1.00</td>\n",
       "      <td>0.5</td>\n",
       "      <td>6.09</td>\n",
       "      <td>0.00</td>\n",
       "      <td>1.0</td>\n",
       "      <td>36.54</td>\n",
       "      <td>2.5</td>\n",
       "      <td>0.00</td>\n",
       "      <td>0.75</td>\n",
       "    </tr>\n",
       "    <tr>\n",
       "      <th>2</th>\n",
       "      <td>1</td>\n",
       "      <td>2025-06-01 00:43:47</td>\n",
       "      <td>2025-06-01 00:49:16</td>\n",
       "      <td>0.0</td>\n",
       "      <td>0.70</td>\n",
       "      <td>1.0</td>\n",
       "      <td>N</td>\n",
       "      <td>230</td>\n",
       "      <td>163</td>\n",
       "      <td>1</td>\n",
       "      <td>7.20</td>\n",
       "      <td>4.25</td>\n",
       "      <td>0.5</td>\n",
       "      <td>2.59</td>\n",
       "      <td>0.00</td>\n",
       "      <td>1.0</td>\n",
       "      <td>15.54</td>\n",
       "      <td>2.5</td>\n",
       "      <td>0.00</td>\n",
       "      <td>0.75</td>\n",
       "    </tr>\n",
       "    <tr>\n",
       "      <th>3</th>\n",
       "      <td>1</td>\n",
       "      <td>2025-06-01 00:01:15</td>\n",
       "      <td>2025-06-01 00:42:16</td>\n",
       "      <td>1.0</td>\n",
       "      <td>17.00</td>\n",
       "      <td>2.0</td>\n",
       "      <td>N</td>\n",
       "      <td>132</td>\n",
       "      <td>232</td>\n",
       "      <td>1</td>\n",
       "      <td>70.00</td>\n",
       "      <td>3.25</td>\n",
       "      <td>0.5</td>\n",
       "      <td>5.00</td>\n",
       "      <td>0.00</td>\n",
       "      <td>1.0</td>\n",
       "      <td>79.75</td>\n",
       "      <td>2.5</td>\n",
       "      <td>0.00</td>\n",
       "      <td>0.75</td>\n",
       "    </tr>\n",
       "    <tr>\n",
       "      <th>4</th>\n",
       "      <td>7</td>\n",
       "      <td>2025-06-01 00:16:32</td>\n",
       "      <td>2025-06-01 00:16:32</td>\n",
       "      <td>1.0</td>\n",
       "      <td>2.22</td>\n",
       "      <td>1.0</td>\n",
       "      <td>N</td>\n",
       "      <td>48</td>\n",
       "      <td>234</td>\n",
       "      <td>1</td>\n",
       "      <td>20.50</td>\n",
       "      <td>0.00</td>\n",
       "      <td>0.5</td>\n",
       "      <td>5.25</td>\n",
       "      <td>0.00</td>\n",
       "      <td>1.0</td>\n",
       "      <td>31.50</td>\n",
       "      <td>2.5</td>\n",
       "      <td>0.00</td>\n",
       "      <td>0.75</td>\n",
       "    </tr>\n",
       "    <tr>\n",
       "      <th>...</th>\n",
       "      <td>...</td>\n",
       "      <td>...</td>\n",
       "      <td>...</td>\n",
       "      <td>...</td>\n",
       "      <td>...</td>\n",
       "      <td>...</td>\n",
       "      <td>...</td>\n",
       "      <td>...</td>\n",
       "      <td>...</td>\n",
       "      <td>...</td>\n",
       "      <td>...</td>\n",
       "      <td>...</td>\n",
       "      <td>...</td>\n",
       "      <td>...</td>\n",
       "      <td>...</td>\n",
       "      <td>...</td>\n",
       "      <td>...</td>\n",
       "      <td>...</td>\n",
       "      <td>...</td>\n",
       "      <td>...</td>\n",
       "    </tr>\n",
       "    <tr>\n",
       "      <th>4322955</th>\n",
       "      <td>2</td>\n",
       "      <td>2025-06-30 23:43:46</td>\n",
       "      <td>2025-06-30 23:48:53</td>\n",
       "      <td>NaN</td>\n",
       "      <td>1.03</td>\n",
       "      <td>NaN</td>\n",
       "      <td>None</td>\n",
       "      <td>141</td>\n",
       "      <td>262</td>\n",
       "      <td>0</td>\n",
       "      <td>10.08</td>\n",
       "      <td>0.00</td>\n",
       "      <td>0.5</td>\n",
       "      <td>0.00</td>\n",
       "      <td>0.00</td>\n",
       "      <td>1.0</td>\n",
       "      <td>14.08</td>\n",
       "      <td>NaN</td>\n",
       "      <td>NaN</td>\n",
       "      <td>0.00</td>\n",
       "    </tr>\n",
       "    <tr>\n",
       "      <th>4322956</th>\n",
       "      <td>2</td>\n",
       "      <td>2025-06-30 23:19:59</td>\n",
       "      <td>2025-06-30 23:32:47</td>\n",
       "      <td>NaN</td>\n",
       "      <td>3.34</td>\n",
       "      <td>NaN</td>\n",
       "      <td>None</td>\n",
       "      <td>129</td>\n",
       "      <td>70</td>\n",
       "      <td>0</td>\n",
       "      <td>12.23</td>\n",
       "      <td>0.00</td>\n",
       "      <td>0.5</td>\n",
       "      <td>0.00</td>\n",
       "      <td>0.00</td>\n",
       "      <td>1.0</td>\n",
       "      <td>13.73</td>\n",
       "      <td>NaN</td>\n",
       "      <td>NaN</td>\n",
       "      <td>0.00</td>\n",
       "    </tr>\n",
       "    <tr>\n",
       "      <th>4322957</th>\n",
       "      <td>2</td>\n",
       "      <td>2025-06-30 23:35:59</td>\n",
       "      <td>2025-06-30 23:51:56</td>\n",
       "      <td>NaN</td>\n",
       "      <td>3.79</td>\n",
       "      <td>NaN</td>\n",
       "      <td>None</td>\n",
       "      <td>166</td>\n",
       "      <td>243</td>\n",
       "      <td>0</td>\n",
       "      <td>16.95</td>\n",
       "      <td>0.00</td>\n",
       "      <td>0.5</td>\n",
       "      <td>0.00</td>\n",
       "      <td>0.00</td>\n",
       "      <td>1.0</td>\n",
       "      <td>18.45</td>\n",
       "      <td>NaN</td>\n",
       "      <td>NaN</td>\n",
       "      <td>0.00</td>\n",
       "    </tr>\n",
       "    <tr>\n",
       "      <th>4322958</th>\n",
       "      <td>2</td>\n",
       "      <td>2025-06-30 23:00:28</td>\n",
       "      <td>2025-06-30 23:15:01</td>\n",
       "      <td>NaN</td>\n",
       "      <td>3.85</td>\n",
       "      <td>NaN</td>\n",
       "      <td>None</td>\n",
       "      <td>238</td>\n",
       "      <td>42</td>\n",
       "      <td>0</td>\n",
       "      <td>18.40</td>\n",
       "      <td>0.00</td>\n",
       "      <td>0.5</td>\n",
       "      <td>0.00</td>\n",
       "      <td>0.00</td>\n",
       "      <td>1.0</td>\n",
       "      <td>22.40</td>\n",
       "      <td>NaN</td>\n",
       "      <td>NaN</td>\n",
       "      <td>0.00</td>\n",
       "    </tr>\n",
       "    <tr>\n",
       "      <th>4322959</th>\n",
       "      <td>2</td>\n",
       "      <td>2025-06-30 23:10:59</td>\n",
       "      <td>2025-06-30 23:19:54</td>\n",
       "      <td>NaN</td>\n",
       "      <td>2.22</td>\n",
       "      <td>NaN</td>\n",
       "      <td>None</td>\n",
       "      <td>246</td>\n",
       "      <td>230</td>\n",
       "      <td>0</td>\n",
       "      <td>12.16</td>\n",
       "      <td>0.00</td>\n",
       "      <td>0.5</td>\n",
       "      <td>0.00</td>\n",
       "      <td>0.00</td>\n",
       "      <td>1.0</td>\n",
       "      <td>16.91</td>\n",
       "      <td>NaN</td>\n",
       "      <td>NaN</td>\n",
       "      <td>0.75</td>\n",
       "    </tr>\n",
       "  </tbody>\n",
       "</table>\n",
       "<p>4322960 rows × 20 columns</p>\n",
       "</div>"
      ],
      "text/plain": [
       "         VendorID tpep_pickup_datetime tpep_dropoff_datetime  passenger_count  \\\n",
       "0               1  2025-06-01 00:02:50   2025-06-01 00:39:51              1.0   \n",
       "1               2  2025-06-01 00:11:27   2025-06-01 00:35:35              1.0   \n",
       "2               1  2025-06-01 00:43:47   2025-06-01 00:49:16              0.0   \n",
       "3               1  2025-06-01 00:01:15   2025-06-01 00:42:16              1.0   \n",
       "4               7  2025-06-01 00:16:32   2025-06-01 00:16:32              1.0   \n",
       "...           ...                  ...                   ...              ...   \n",
       "4322955         2  2025-06-30 23:43:46   2025-06-30 23:48:53              NaN   \n",
       "4322956         2  2025-06-30 23:19:59   2025-06-30 23:32:47              NaN   \n",
       "4322957         2  2025-06-30 23:35:59   2025-06-30 23:51:56              NaN   \n",
       "4322958         2  2025-06-30 23:00:28   2025-06-30 23:15:01              NaN   \n",
       "4322959         2  2025-06-30 23:10:59   2025-06-30 23:19:54              NaN   \n",
       "\n",
       "         trip_distance  RatecodeID store_and_fwd_flag  PULocationID  \\\n",
       "0                10.00         1.0                  N           138   \n",
       "1                 3.93         1.0                  N           158   \n",
       "2                 0.70         1.0                  N           230   \n",
       "3                17.00         2.0                  N           132   \n",
       "4                 2.22         1.0                  N            48   \n",
       "...                ...         ...                ...           ...   \n",
       "4322955           1.03         NaN               None           141   \n",
       "4322956           3.34         NaN               None           129   \n",
       "4322957           3.79         NaN               None           166   \n",
       "4322958           3.85         NaN               None           238   \n",
       "4322959           2.22         NaN               None           246   \n",
       "\n",
       "         DOLocationID  payment_type  fare_amount  extra  mta_tax  tip_amount  \\\n",
       "0                  50             1        47.80  11.00      0.5       20.15   \n",
       "1                 237             1        24.70   1.00      0.5        6.09   \n",
       "2                 163             1         7.20   4.25      0.5        2.59   \n",
       "3                 232             1        70.00   3.25      0.5        5.00   \n",
       "4                 234             1        20.50   0.00      0.5        5.25   \n",
       "...               ...           ...          ...    ...      ...         ...   \n",
       "4322955           262             0        10.08   0.00      0.5        0.00   \n",
       "4322956            70             0        12.23   0.00      0.5        0.00   \n",
       "4322957           243             0        16.95   0.00      0.5        0.00   \n",
       "4322958            42             0        18.40   0.00      0.5        0.00   \n",
       "4322959           230             0        12.16   0.00      0.5        0.00   \n",
       "\n",
       "         tolls_amount  improvement_surcharge  total_amount  \\\n",
       "0                6.94                    1.0         87.39   \n",
       "1                0.00                    1.0         36.54   \n",
       "2                0.00                    1.0         15.54   \n",
       "3                0.00                    1.0         79.75   \n",
       "4                0.00                    1.0         31.50   \n",
       "...               ...                    ...           ...   \n",
       "4322955          0.00                    1.0         14.08   \n",
       "4322956          0.00                    1.0         13.73   \n",
       "4322957          0.00                    1.0         18.45   \n",
       "4322958          0.00                    1.0         22.40   \n",
       "4322959          0.00                    1.0         16.91   \n",
       "\n",
       "         congestion_surcharge  Airport_fee  cbd_congestion_fee  \n",
       "0                         2.5         1.75                0.75  \n",
       "1                         2.5         0.00                0.75  \n",
       "2                         2.5         0.00                0.75  \n",
       "3                         2.5         0.00                0.75  \n",
       "4                         2.5         0.00                0.75  \n",
       "...                       ...          ...                 ...  \n",
       "4322955                   NaN          NaN                0.00  \n",
       "4322956                   NaN          NaN                0.00  \n",
       "4322957                   NaN          NaN                0.00  \n",
       "4322958                   NaN          NaN                0.00  \n",
       "4322959                   NaN          NaN                0.75  \n",
       "\n",
       "[4322960 rows x 20 columns]"
      ]
     },
     "execution_count": 29,
     "metadata": {},
     "output_type": "execute_result"
    }
   ],
   "source": [
    "df = pd.read_parquet(data_file)\n",
    "df"
   ]
  },
  {
   "cell_type": "markdown",
   "id": "be534093",
   "metadata": {},
   "source": [
    "### 4. Summarize the Data"
   ]
  },
  {
   "cell_type": "code",
   "execution_count": 7,
   "id": "aa835426",
   "metadata": {},
   "outputs": [
    {
     "data": {
      "text/plain": [
       "(4322960, 20)"
      ]
     },
     "execution_count": 7,
     "metadata": {},
     "output_type": "execute_result"
    }
   ],
   "source": [
    "df.shape"
   ]
  },
  {
   "cell_type": "code",
   "execution_count": 8,
   "id": "a71aa717",
   "metadata": {},
   "outputs": [
    {
     "data": {
      "text/plain": [
       "VendorID                          int32\n",
       "tpep_pickup_datetime     datetime64[us]\n",
       "tpep_dropoff_datetime    datetime64[us]\n",
       "passenger_count                 float64\n",
       "trip_distance                   float64\n",
       "RatecodeID                      float64\n",
       "store_and_fwd_flag               object\n",
       "PULocationID                      int32\n",
       "DOLocationID                      int32\n",
       "payment_type                      int64\n",
       "fare_amount                     float64\n",
       "extra                           float64\n",
       "mta_tax                         float64\n",
       "tip_amount                      float64\n",
       "tolls_amount                    float64\n",
       "improvement_surcharge           float64\n",
       "total_amount                    float64\n",
       "congestion_surcharge            float64\n",
       "Airport_fee                     float64\n",
       "cbd_congestion_fee              float64\n",
       "dtype: object"
      ]
     },
     "execution_count": 8,
     "metadata": {},
     "output_type": "execute_result"
    }
   ],
   "source": [
    "df.dtypes"
   ]
  },
  {
   "cell_type": "code",
   "execution_count": 9,
   "id": "3ded94ae",
   "metadata": {},
   "outputs": [
    {
     "name": "stdout",
     "output_type": "stream",
     "text": [
      "<class 'pandas.core.frame.DataFrame'>\n",
      "RangeIndex: 4322960 entries, 0 to 4322959\n",
      "Data columns (total 20 columns):\n",
      " #   Column                 Dtype         \n",
      "---  ------                 -----         \n",
      " 0   VendorID               int32         \n",
      " 1   tpep_pickup_datetime   datetime64[us]\n",
      " 2   tpep_dropoff_datetime  datetime64[us]\n",
      " 3   passenger_count        float64       \n",
      " 4   trip_distance          float64       \n",
      " 5   RatecodeID             float64       \n",
      " 6   store_and_fwd_flag     object        \n",
      " 7   PULocationID           int32         \n",
      " 8   DOLocationID           int32         \n",
      " 9   payment_type           int64         \n",
      " 10  fare_amount            float64       \n",
      " 11  extra                  float64       \n",
      " 12  mta_tax                float64       \n",
      " 13  tip_amount             float64       \n",
      " 14  tolls_amount           float64       \n",
      " 15  improvement_surcharge  float64       \n",
      " 16  total_amount           float64       \n",
      " 17  congestion_surcharge   float64       \n",
      " 18  Airport_fee            float64       \n",
      " 19  cbd_congestion_fee     float64       \n",
      "dtypes: datetime64[us](2), float64(13), int32(3), int64(1), object(1)\n",
      "memory usage: 610.2+ MB\n"
     ]
    }
   ],
   "source": [
    "# meta-data of dataset\n",
    "df.info()"
   ]
  },
  {
   "cell_type": "code",
   "execution_count": 30,
   "id": "8272010c",
   "metadata": {},
   "outputs": [
    {
     "data": {
      "text/html": [
       "<div>\n",
       "<style scoped>\n",
       "    .dataframe tbody tr th:only-of-type {\n",
       "        vertical-align: middle;\n",
       "    }\n",
       "\n",
       "    .dataframe tbody tr th {\n",
       "        vertical-align: top;\n",
       "    }\n",
       "\n",
       "    .dataframe thead th {\n",
       "        text-align: right;\n",
       "    }\n",
       "</style>\n",
       "<table border=\"1\" class=\"dataframe\">\n",
       "  <thead>\n",
       "    <tr style=\"text-align: right;\">\n",
       "      <th></th>\n",
       "      <th>count</th>\n",
       "      <th>pct</th>\n",
       "    </tr>\n",
       "  </thead>\n",
       "  <tbody>\n",
       "    <tr>\n",
       "      <th>passenger_count</th>\n",
       "      <td>1212946</td>\n",
       "      <td>28.06</td>\n",
       "    </tr>\n",
       "    <tr>\n",
       "      <th>RatecodeID</th>\n",
       "      <td>1212946</td>\n",
       "      <td>28.06</td>\n",
       "    </tr>\n",
       "    <tr>\n",
       "      <th>store_and_fwd_flag</th>\n",
       "      <td>1212946</td>\n",
       "      <td>28.06</td>\n",
       "    </tr>\n",
       "    <tr>\n",
       "      <th>congestion_surcharge</th>\n",
       "      <td>1212946</td>\n",
       "      <td>28.06</td>\n",
       "    </tr>\n",
       "    <tr>\n",
       "      <th>Airport_fee</th>\n",
       "      <td>1212946</td>\n",
       "      <td>28.06</td>\n",
       "    </tr>\n",
       "  </tbody>\n",
       "</table>\n",
       "</div>"
      ],
      "text/plain": [
       "                        count    pct\n",
       "passenger_count       1212946  28.06\n",
       "RatecodeID            1212946  28.06\n",
       "store_and_fwd_flag    1212946  28.06\n",
       "congestion_surcharge  1212946  28.06\n",
       "Airport_fee           1212946  28.06"
      ]
     },
     "execution_count": 30,
     "metadata": {},
     "output_type": "execute_result"
    }
   ],
   "source": [
    "# missing values\n",
    "na_counts = df.isna().sum()\n",
    "\n",
    "na_pct = df.isna().sum().div(df.shape[0]).mul(100).round(2)\n",
    "\n",
    "na_df = (\n",
    "\tpd\n",
    "\t.concat([na_counts, na_pct], axis=1)\n",
    "\t.set_axis([\"count\", \"pct\"], axis=1)\n",
    "\t.query(\"count > 0\")\n",
    "\t.sort_values(by=\"count\", ascending=False)\n",
    ")\n",
    "na_df"
   ]
  },
  {
   "cell_type": "code",
   "execution_count": 11,
   "id": "7cddd4c8",
   "metadata": {},
   "outputs": [
    {
     "data": {
      "text/plain": [
       "np.int64(0)"
      ]
     },
     "execution_count": 11,
     "metadata": {},
     "output_type": "execute_result"
    }
   ],
   "source": [
    "# duplicate values\n",
    "df.duplicated().sum()"
   ]
  },
  {
   "cell_type": "markdown",
   "id": "2fbb2d75",
   "metadata": {},
   "source": [
    "### 5. Load Data into MongoDB"
   ]
  },
  {
   "cell_type": "code",
   "execution_count": 31,
   "id": "6b8b3a87",
   "metadata": {},
   "outputs": [
    {
     "name": "stdout",
     "output_type": "stream",
     "text": [
      "Successfully connected to MongoDB!\n"
     ]
    }
   ],
   "source": [
    "# establish connection to MongoDB local server\n",
    "try:\n",
    "\tclient = MongoClient('mongodb://localhost:27017/')\n",
    "\tdb = client['taxis']\n",
    "except ConnectionFailure as e:\n",
    "\tprint(f\"Couldn't connect to MongoDB: {e}\")\n",
    "else:\n",
    "\tprint(\"Successfully connected to MongoDB!\")\n",
    "\tcollection = db['taxi_data']"
   ]
  },
  {
   "cell_type": "code",
   "execution_count": null,
   "id": "548e2962",
   "metadata": {},
   "outputs": [],
   "source": [
    "# convert Parquet to JSON format\n",
    "data_json = df.to_dict(orient='records')"
   ]
  },
  {
   "cell_type": "code",
   "execution_count": null,
   "id": "ef67bb2f",
   "metadata": {},
   "outputs": [],
   "source": [
    "# insert data into collection\n",
    "collection.insert_many(data_json)"
   ]
  },
  {
   "cell_type": "code",
   "execution_count": 13,
   "id": "220db4ac",
   "metadata": {},
   "outputs": [],
   "source": [
    "import findspark\n",
    "findspark.init()"
   ]
  },
  {
   "cell_type": "code",
   "execution_count": 15,
   "id": "42a3e6c9",
   "metadata": {},
   "outputs": [],
   "source": [
    "from pyspark.sql import SparkSession\n",
    "\n",
    "# Create Spark Session\n",
    "spark = SparkSession.builder \\\n",
    "    .appName(\"VSCodeSparkDemo\") \\\n",
    "    .master(\"local[*]\") \\\n",
    "    .getOrCreate()"
   ]
  },
  {
   "cell_type": "code",
   "execution_count": 16,
   "id": "7c0ee481",
   "metadata": {},
   "outputs": [
    {
     "name": "stdout",
     "output_type": "stream",
     "text": [
      "Spark Version: 3.5.1\n"
     ]
    }
   ],
   "source": [
    "# Check Spark version\n",
    "print(\"Spark Version:\", spark.version)"
   ]
  },
  {
   "cell_type": "code",
   "execution_count": 18,
   "id": "db99f284",
   "metadata": {},
   "outputs": [],
   "source": [
    "# Read the Parquet file\n",
    "df1 = spark.read.parquet(data_file)"
   ]
  },
  {
   "cell_type": "code",
   "execution_count": null,
   "id": "af94942b",
   "metadata": {},
   "outputs": [],
   "source": []
  }
 ],
 "metadata": {
  "kernelspec": {
   "display_name": "Yellow-Taxi-Trip-Records-Data-Analysis",
   "language": "python",
   "name": "python3"
  },
  "language_info": {
   "codemirror_mode": {
    "name": "ipython",
    "version": 3
   },
   "file_extension": ".py",
   "mimetype": "text/x-python",
   "name": "python",
   "nbconvert_exporter": "python",
   "pygments_lexer": "ipython3",
   "version": "3.13.1"
  }
 },
 "nbformat": 4,
 "nbformat_minor": 5
}
